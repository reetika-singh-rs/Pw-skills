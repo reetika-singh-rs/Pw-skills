{
  "nbformat": 4,
  "nbformat_minor": 0,
  "metadata": {
    "colab": {
      "provenance": []
    },
    "kernelspec": {
      "name": "python3",
      "display_name": "Python 3"
    },
    "language_info": {
      "name": "python"
    }
  },
  "cells": [
    {
      "source": [
        "def calculate(a, b):\n",
        "  sum = a + b\n",
        "  difference = a - b\n",
        "  product = a * b\n",
        "  quotient = a / b\n",
        "  return sum, difference, product, quotient\n",
        "\n",
        "# Example usage\n",
        "num1 = 10\n",
        "num2 = 5\n",
        "sum, difference, product, quotient = calculate(num1, num2)\n",
        "\n",
        "print(\"Sum:\", sum)\n",
        "print(\"Difference:\", difference)\n",
        "print(\"Product:\", product)\n",
        "print(\"Quotient:\", quotient)"
      ],
      "cell_type": "code",
      "metadata": {
        "colab": {
          "base_uri": "https://localhost:8080/"
        },
        "id": "sNyU-MyNzFvw",
        "outputId": "916abf09-bc84-4c39-cc66-a0b45d107e44"
      },
      "execution_count": null,
      "outputs": [
        {
          "output_type": "stream",
          "name": "stdout",
          "text": [
            "Sum: 15\n",
            "Difference: 5\n",
            "Product: 50\n",
            "Quotient: 2.0\n"
          ]
        }
      ]
    },
    {
      "cell_type": "code",
      "source": [],
      "metadata": {
        "id": "i-le2WbszRq7"
      },
      "execution_count": null,
      "outputs": []
    },
    {
      "source": [
        "#Assign a value to a variable\n",
        "a = 10\n",
        "\n",
        "#Add and assign\n",
        "a += 5  # Equivalent to a = a + 5\n",
        "\n",
        "#Subtract and assign\n",
        "a -= 3\n",
        "#Equivalent to a = a - 3\n",
        "\n",
        "# Multiply and assign\n",
        "a *= 2  # Equivalent to a = a * 2\n",
        "\n",
        "#Divide and assign\n",
        "a /= 4  # Equivalent to a = a / 4\n",
        "\n",
        "#Modulus and assign\n",
        "a %= 3  # Equivalent to a = a % 3\n",
        "\n",
        "#Exponent and assign\n",
        "a **= 2  # Equivalent to a = a ** 2\n",
        "\n",
        "print(a)"
      ],
      "cell_type": "code",
      "metadata": {
        "colab": {
          "base_uri": "https://localhost:8080/"
        },
        "id": "LLA85kJ_z0iI",
        "outputId": "8946d05b-6533-409e-adcb-a12ac8827fed"
      },
      "execution_count": null,
      "outputs": [
        {
          "output_type": "stream",
          "name": "stdout",
          "text": [
            "0.0\n"
          ]
        }
      ]
    },
    {
      "source": [
        "a = 15\n",
        "b = 10\n",
        "\n",
        "if a == b:\n",
        "  print(\"a is equal to b\")\n",
        "elif a > b:\n",
        "  print(\"a is greater than b\")\n",
        "else:\n",
        "  print(\"a is less than b\")"
      ],
      "cell_type": "code",
      "metadata": {
        "colab": {
          "base_uri": "https://localhost:8080/"
        },
        "id": "CpMgO0fn0PTR",
        "outputId": "65c3cc65-f4fb-42e5-b8b4-f0b520aba8b1"
      },
      "execution_count": null,
      "outputs": [
        {
          "output_type": "stream",
          "name": "stdout",
          "text": [
            "a is greater than b\n"
          ]
        }
      ]
    },
    {
      "source": [
        "a = 10\n",
        "b = 5\n",
        "c = 15\n",
        "\n",
        "# AND operator\n",
        "if a > b and a < c:\n",
        "  print(\"a is between b and c\")\n",
        "\n",
        "# OR operator\n",
        "if a < b or a < c:\n",
        "  print(\"a is less than b or c\")\n",
        "\n",
        "# NOT operator\n",
        "if not a == b:\n",
        "  print(\"a is not equal to b\")"
      ],
      "cell_type": "code",
      "metadata": {
        "colab": {
          "base_uri": "https://localhost:8080/"
        },
        "id": "OqqpBtaD0eAL",
        "outputId": "b83434cf-f53a-4094-8625-e6b5da6443e5"
      },
      "execution_count": null,
      "outputs": [
        {
          "output_type": "stream",
          "name": "stdout",
          "text": [
            "a is between b and c\n",
            "a is less than b or c\n",
            "a is not equal to b\n"
          ]
        }
      ]
    },
    {
      "cell_type": "markdown",
      "source": [],
      "metadata": {
        "id": "EFFTCuSOr3n6"
      }
    },
    {
      "cell_type": "code",
      "source": [
        "a = [3, 4, 5]\n",
        "b = a\n",
        "c = [3, 4, 5]\n",
        "\n",
        "print(a is b)  # True, a and b refer to the same object\n",
        "print(a is c)  # False, a and c refer to different objects"
      ],
      "metadata": {
        "colab": {
          "base_uri": "https://localhost:8080/"
        },
        "id": "Ang-GpCz0m6c",
        "outputId": "02025395-34e0-413d-e221-c38267ed4622"
      },
      "execution_count": null,
      "outputs": [
        {
          "output_type": "stream",
          "name": "stdout",
          "text": [
            "True\n",
            "False\n"
          ]
        }
      ]
    },
    {
      "source": [
        "a = 15\n",
        "b = 9\n",
        "\n",
        "# Bitwise AND\n",
        "print(a & b)\n",
        "\n",
        "# Bitwise OR\n",
        "print(a | b)\n",
        "\n",
        "# Bitwise XOR\n",
        "print(a ^ b)\n",
        "\n",
        "# Bitwise NOT\n",
        "print(~a)\n",
        "\n",
        "# Bitwise left shift\n",
        "print(a << 2)\n",
        "\n",
        "# Bitwise right shift\n",
        "print(a >> 2)"
      ],
      "cell_type": "code",
      "metadata": {
        "colab": {
          "base_uri": "https://localhost:8080/"
        },
        "id": "cAZGBfIi0_vC",
        "outputId": "ab9a89a9-05fb-4780-db01-fa0fdd58fb28"
      },
      "execution_count": null,
      "outputs": [
        {
          "output_type": "stream",
          "name": "stdout",
          "text": [
            "9\n",
            "15\n",
            "6\n",
            "-16\n",
            "60\n",
            "3\n"
          ]
        }
      ]
    },
    {
      "source": [
        "a = 10\n",
        "\n",
        "# Change the sign of a\n",
        "a = -a\n",
        "\n",
        "print(a)  # Output: -10"
      ],
      "cell_type": "code",
      "metadata": {
        "colab": {
          "base_uri": "https://localhost:8080/"
        },
        "id": "9V2T5VeD1NiB",
        "outputId": "a54d296d-105c-4b35-adc3-ad68dad68e1f"
      },
      "execution_count": null,
      "outputs": [
        {
          "output_type": "stream",
          "name": "stdout",
          "text": [
            "-10\n"
          ]
        }
      ]
    },
    {
      "source": [
        "a = 20\n",
        "b = 5\n",
        "\n",
        "# Assign the smaller value to min\n",
        "min = a if a < b else b\n",
        "\n",
        "print(min)"
      ],
      "cell_type": "code",
      "metadata": {
        "colab": {
          "base_uri": "https://localhost:8080/"
        },
        "id": "kVBnv-WU1U9_",
        "outputId": "3103eb45-61a9-40f1-d4be-877a33b7e24b"
      },
      "execution_count": null,
      "outputs": [
        {
          "output_type": "stream",
          "name": "stdout",
          "text": [
            "5\n"
          ]
        }
      ]
    },
    {
      "cell_type": "code",
      "source": [],
      "metadata": {
        "id": "TzxUg0Ay0mth"
      },
      "execution_count": null,
      "outputs": []
    }
  ]
}