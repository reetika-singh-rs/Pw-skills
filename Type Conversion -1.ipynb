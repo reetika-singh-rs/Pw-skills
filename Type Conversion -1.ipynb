{
  "nbformat": 4,
  "nbformat_minor": 0,
  "metadata": {
    "colab": {
      "provenance": []
    },
    "kernelspec": {
      "name": "python3",
      "display_name": "Python 3"
    },
    "language_info": {
      "name": "python"
    }
  },
  "cells": [
    {
      "cell_type": "code",
      "execution_count": null,
      "metadata": {
        "id": "c1o55wafhGuE"
      },
      "outputs": [],
      "source": [
        "Python Type Conversion Questions"
      ]
    },
    {
      "cell_type": "code",
      "source": [
        "integer_value = 42\n",
        "float_value = float(integer_value)\n",
        "print(float_value)\n"
      ],
      "metadata": {
        "colab": {
          "base_uri": "https://localhost:8080/"
        },
        "id": "yCR6ORYkhHwK",
        "outputId": "017aef4f-79e6-4f1e-b20d-ab105bb1993e"
      },
      "execution_count": 1,
      "outputs": [
        {
          "output_type": "stream",
          "name": "stdout",
          "text": [
            "42.0\n"
          ]
        }
      ]
    },
    {
      "cell_type": "code",
      "source": [
        "float_value = 12.58\n",
        "integer_value = int(float_value)\n",
        "print(integer_value)\n"
      ],
      "metadata": {
        "colab": {
          "base_uri": "https://localhost:8080/"
        },
        "id": "FyZVJ5v7hK7A",
        "outputId": "bbcdc2df-8e84-47a3-a117-8604265ddd97"
      },
      "execution_count": 2,
      "outputs": [
        {
          "output_type": "stream",
          "name": "stdout",
          "text": [
            "12\n"
          ]
        }
      ]
    },
    {
      "cell_type": "code",
      "source": [
        "integer_value = 10\n",
        "string_value = str(integer_value)\n",
        "print(string_value)"
      ],
      "metadata": {
        "colab": {
          "base_uri": "https://localhost:8080/"
        },
        "id": "iWuau2tphQMv",
        "outputId": "60726521-1538-4953-a6e9-a81af9ca2155"
      },
      "execution_count": 3,
      "outputs": [
        {
          "output_type": "stream",
          "name": "stdout",
          "text": [
            "10\n"
          ]
        }
      ]
    },
    {
      "cell_type": "code",
      "source": [
        "list_value = [\"mango\", \"orange\", \"apple\", \"grapes\", \"pear\"]\n",
        "tuple_value = tuple(list_value)\n",
        "print(tuple_value)\n"
      ],
      "metadata": {
        "colab": {
          "base_uri": "https://localhost:8080/"
        },
        "id": "9vYOr6vFhWvn",
        "outputId": "1def848d-7687-4b42-ed60-f067c04b693c"
      },
      "execution_count": 4,
      "outputs": [
        {
          "output_type": "stream",
          "name": "stdout",
          "text": [
            "('mango', 'orange', 'apple', 'grapes', 'pear')\n"
          ]
        }
      ]
    },
    {
      "cell_type": "code",
      "source": [
        "tuple_value = (\"seema\", \"rice\", \"payal\", 2, 12)\n",
        "list_value = list(tuple_value)\n",
        "print(list_value)\n"
      ],
      "metadata": {
        "colab": {
          "base_uri": "https://localhost:8080/"
        },
        "id": "9qnUuONdhYca",
        "outputId": "83b7c640-d05c-4d4f-8289-7acfb5b5586d"
      },
      "execution_count": 5,
      "outputs": [
        {
          "output_type": "stream",
          "name": "stdout",
          "text": [
            "['seema', 'rice', 'payal', 2, 12]\n"
          ]
        }
      ]
    },
    {
      "cell_type": "code",
      "source": [
        "decimal_value = 234\n",
        "binary_value = bin(decimal_value)\n",
        "print(binary_value)\n"
      ],
      "metadata": {
        "colab": {
          "base_uri": "https://localhost:8080/"
        },
        "id": "rx2qcIAJh3Q0",
        "outputId": "da4959dd-0506-4b67-f8cc-edcd19d2da3f"
      },
      "execution_count": 9,
      "outputs": [
        {
          "output_type": "stream",
          "name": "stdout",
          "text": [
            "0b11101010\n"
          ]
        }
      ]
    },
    {
      "cell_type": "code",
      "source": [
        "number = 90\n",
        "boolean_value = bool(number)\n",
        "print(boolean_value)\n"
      ],
      "metadata": {
        "colab": {
          "base_uri": "https://localhost:8080/"
        },
        "id": "k6xoKrVpiBnj",
        "outputId": "355200d5-7c6d-4ad6-c0b9-d41b7536d987"
      },
      "execution_count": 8,
      "outputs": [
        {
          "output_type": "stream",
          "name": "stdout",
          "text": [
            "True\n"
          ]
        }
      ]
    }
  ]
}